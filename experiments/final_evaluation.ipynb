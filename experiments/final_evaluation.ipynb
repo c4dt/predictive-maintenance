{
 "cells": [
  {
   "cell_type": "markdown",
   "id": "61f7b68e-9448-4b0c-80e2-2d37788f63c9",
   "metadata": {},
   "source": [
    "# Transfer Learning from PatchCore to MLP\n",
    "This notebook will present the final results of both MLP and LR based transfer models\n",
    "\n",
    "**This document follows these steps:**\n",
    "1. Use the training procedure as done in the other notebooks.\n",
    "2. Summarize the results of both models with graphs"
   ]
  },
  {
   "cell_type": "code",
   "execution_count": 1,
   "id": "8860cc53-7d5f-48a3-8cf2-25ee339eeab5",
   "metadata": {},
   "outputs": [
    {
     "name": "stderr",
     "output_type": "stream",
     "text": [
      "Global seed set to 0\n",
      "GPU available: True (mps), used: False\n",
      "TPU available: False, using: 0 TPU cores\n",
      "IPU available: False, using: 0 IPUs\n",
      "HPU available: False, using: 0 HPUs\n",
      "`Trainer(limit_train_batches=1.0)` was configured so 100% of the batches per epoch will be used..\n",
      "`Trainer(limit_val_batches=1.0)` was configured so 100% of the batches will be used..\n",
      "`Trainer(limit_test_batches=1.0)` was configured so 100% of the batches will be used..\n",
      "`Trainer(limit_predict_batches=1.0)` was configured so 100% of the batches will be used..\n",
      "`Trainer(val_check_interval=1.0)` was configured so validation will run at the end of the training epoch..\n",
      "\n",
      "  | Name                  | Type                     | Params\n",
      "-------------------------------------------------------------------\n",
      "0 | image_threshold       | AnomalyScoreThreshold    | 0     \n",
      "1 | pixel_threshold       | AnomalyScoreThreshold    | 0     \n",
      "2 | model                 | PatchcoreModel           | 24.9 M\n",
      "3 | image_metrics         | AnomalibMetricCollection | 0     \n",
      "4 | pixel_metrics         | AnomalibMetricCollection | 0     \n",
      "5 | normalization_metrics | MinMax                   | 0     \n",
      "-------------------------------------------------------------------\n",
      "24.9 M    Trainable params\n",
      "0         Non-trainable params\n",
      "24.9 M    Total params\n",
      "99.450    Total estimated model params size (MB)\n"
     ]
    },
    {
     "data": {
      "application/vnd.jupyter.widget-view+json": {
       "model_id": "e7ba7c0707c949058f22feb326c29069",
       "version_major": 2,
       "version_minor": 0
      },
      "text/plain": [
       "Training: 0it [00:00, ?it/s]"
      ]
     },
     "metadata": {},
     "output_type": "display_data"
    },
    {
     "data": {
      "application/vnd.jupyter.widget-view+json": {
       "model_id": "",
       "version_major": 2,
       "version_minor": 0
      },
      "text/plain": [
       "Validation: 0it [00:00, ?it/s]"
      ]
     },
     "metadata": {},
     "output_type": "display_data"
    },
    {
     "name": "stderr",
     "output_type": "stream",
     "text": [
      "`Trainer.fit` stopped: `max_epochs=1` reached.\n"
     ]
    }
   ],
   "source": [
    "import warnings\n",
    "warnings.filterwarnings(\"ignore\")\n",
    "\n",
    "from pytorch_lightning import Trainer, seed_everything\n",
    "\n",
    "from config import get_configurable_parameters\n",
    "from data import get_datamodule\n",
    "from models import get_model\n",
    "from utils.callbacks import LoadModelCallback, get_callbacks\n",
    "\n",
    "# config\n",
    "config = get_configurable_parameters(model_name=\"patchcore\", config_path=\"config.yaml\")\n",
    "if config.project.get(\"seed\") is not None:\n",
    "    seed_everything(config.project.seed)\n",
    "# prepare dataomdule\n",
    "datamodule = get_datamodule(config)\n",
    "# prepare model\n",
    "_model_patchcore = get_model(config)\n",
    "callbacks = get_callbacks(config)\n",
    "# fit the model\n",
    "trainer = Trainer(**config.trainer, callbacks=callbacks)\n",
    "trainer.fit(model=_model_patchcore, datamodule=datamodule)\n",
    "load_model_callback = LoadModelCallback(weights_path=trainer.checkpoint_callback.best_model_path)\n",
    "trainer.callbacks.insert(0, load_model_callback)  # pylint: disable=no-member"
   ]
  },
  {
   "cell_type": "code",
   "execution_count": 2,
   "id": "984f20f6-61b5-4033-b438-d9c025d537a8",
   "metadata": {},
   "outputs": [],
   "source": [
    "import json\n",
    "import torch\n",
    "from typing import List\n",
    "\n",
    "from inferencer import TorchInferencer\n",
    "from data.utils import get_image_filenames, read_image\n",
    "\n",
    "\n",
    "inferencer = TorchInferencer(\n",
    "    config=config,\n",
    "    model_source=\"output/results/patchcore/mvtec/grid/run/weights/lightning/model.ckpt\",\n",
    "    device=\"auto\"\n",
    ")\n",
    "model = inferencer.model.model\n",
    "filenames = get_image_filenames(path=\"datasets/MVTec_b/grid/\")\n",
    "\n",
    "def generate_embeddings(filenames: List[str]):  #  -> Tuple(List[patches], List[patchScores])\n",
    "    embeddings = []\n",
    "    outputs = []\n",
    "    print(\"Preparing data for training by generating embeddings\")\n",
    "    for i, filename in enumerate(filenames):\n",
    "        image_arr = read_image(filename)\n",
    "        metadata = inferencer.metadata\n",
    "        metadata[\"image_shape\"] = image_arr.shape[:2]\n",
    "        processed_image = inferencer.pre_process(image_arr)\n",
    "    \n",
    "        # generating embeddings\n",
    "        with torch.no_grad():\n",
    "            features = model.feature_extractor(processed_image)\n",
    "        features = {layer: model.feature_pooler(feature) for layer, feature in features.items()}\n",
    "        embedding = model.generate_embedding(features)\n",
    "        batch_size, _, width, height = embedding.shape\n",
    "        embedding = model.reshape_embedding(embedding)\n",
    "\n",
    "        embeddings += embedding.tolist()\n",
    "\n",
    "        # calculating anomaly score / patch\n",
    "        outputs += model.nearest_neighbors(embedding=embedding, n_neighbors=1)[0].tolist()\n",
    "\n",
    "        if (i + 1) % 25 == 0:\n",
    "            print(f\"Finished {i + 1} out of {len(filenames)} images\")\n",
    "\n",
    "    print(\"Finished all!\")\n",
    "    return embeddings, outputs"
   ]
  },
  {
   "cell_type": "code",
   "execution_count": 3,
   "id": "0bf49564-f3fd-4c93-aec6-abb37ec652a5",
   "metadata": {},
   "outputs": [
    {
     "name": "stdout",
     "output_type": "stream",
     "text": [
      "Preparing data for training by generating embeddings\n",
      "Finished 25 out of 170 images\n",
      "Finished 50 out of 170 images\n",
      "Finished 75 out of 170 images\n",
      "Finished 100 out of 170 images\n",
      "Finished 125 out of 170 images\n",
      "Finished 150 out of 170 images\n",
      "Finished all!\n",
      "Preparing data for training by generating embeddings\n",
      "Finished 25 out of 39 images\n",
      "Finished all!\n"
     ]
    }
   ],
   "source": [
    "from sklearn.neural_network import MLPRegressor\n",
    "from sklearn.model_selection import train_test_split\n",
    "from sklearn.preprocessing import StandardScaler\n",
    "\n",
    "\n",
    "# preparing training dataset\n",
    "# we use dataset_b + a percentage of the test dataset.\n",
    "\n",
    "test_images_used_for_training, test_images_used_for_test = train_test_split(\n",
    "    get_image_filenames(\"datasets/MVTec_b/grid/test\"),\n",
    "    test_size=0.50, random_state=4\n",
    ")\n",
    "training_images =  get_image_filenames(\"datasets/MVTec_b/grid/train\") + test_images_used_for_training\n",
    "train_data, train_data_output = generate_embeddings(training_images)\n",
    "\n",
    "# preparing test dataset\n",
    "test_data, test_data_output = generate_embeddings(test_images_used_for_test)"
   ]
  },
  {
   "cell_type": "markdown",
   "id": "575beb7f-bea9-484e-ab67-75b6da89464e",
   "metadata": {},
   "source": [
    "## in the next steps, we train model_MLP and model_LR"
   ]
  },
  {
   "cell_type": "code",
   "execution_count": 4,
   "id": "2d20f8ca-bd65-4806-8acd-9f830242e3a6",
   "metadata": {},
   "outputs": [],
   "source": [
    "import time\n",
    "import numpy as np\n",
    "from sklearn.neural_network import MLPRegressor\n",
    "from sklearn.model_selection import train_test_split\n",
    "from sklearn.preprocessing import StandardScaler"
   ]
  },
  {
   "cell_type": "code",
   "execution_count": 52,
   "id": "4e083fa5-3630-4d1c-bb37-e13337bb9777",
   "metadata": {},
   "outputs": [
    {
     "name": "stdout",
     "output_type": "stream",
     "text": [
      "Took 9 minutes\n",
      "MLP Train RMSE: 1.1197998457401672\n",
      "MLP Train R^2 score: 0.91\n"
     ]
    }
   ],
   "source": [
    "from sklearn.neural_network import MLPRegressor\n",
    "\n",
    "\n",
    "s = time.time()\n",
    "# training the model\n",
    "model_mlp = MLPRegressor(hidden_layer_sizes=(50,), activation='relu', random_state=42)\n",
    "model_mlp.fit(train_data, train_data_output)\n",
    "print(f\"Took {int((time.time() - s) / 60)} minutes\")\n",
    "\n",
    "# Simple evaluation of the model\n",
    "import numpy as np\n",
    "from sklearn.metrics import mean_squared_error\n",
    "\n",
    "# RMSE for training data \n",
    "pred_output = model_mlp.predict(train_data)\n",
    "mse = mean_squared_error(train_data_output, pred_output)\n",
    "rmse = np.sqrt(mse)\n",
    "print(f\"MLP Train RMSE: {rmse}\")\n",
    "r2_score = model_mlp.score(train_data, train_data_output)\n",
    "print(f\"MLP Train R^2 score: {r2_score:.2f}\")\n",
    "\n",
    "# RMSE for test data \n",
    "# pred_output = model_mlp.predict(test_data)\n",
    "# mse = mean_squared_error(test_data_output, pred_output)\n",
    "# rmse = np.sqrt(mse)\n",
    "# print(f\"------ \\n MLP Test RMSE: {rmse}\")\n",
    "# r2_score = model_mlp.score(test_data, test_data_output)\n",
    "# print(f\"MLP Test R^2 score: {r2_score:.2f}\")"
   ]
  },
  {
   "cell_type": "code",
   "execution_count": 6,
   "id": "af9cbafd-28a9-4d2c-bb88-cc4b64210610",
   "metadata": {},
   "outputs": [
    {
     "name": "stdout",
     "output_type": "stream",
     "text": [
      "Took 0 minutes\n",
      "LR Train R-squared score:  0.7479374666180352\n",
      "LR Train RMSE: 1.8520602622318283\n",
      "LR Test R-squared score:  -1.8631305937568867\n",
      "LR Test RMSE: 8.270959948550724\n"
     ]
    }
   ],
   "source": [
    "from sklearn.linear_model import LinearRegression\n",
    "\n",
    "s = time.time()\n",
    "\n",
    "# training the model\n",
    "model_lr = LinearRegression()\n",
    "model_lr.fit(train_data,train_data_output)\n",
    "\n",
    "print(f\"Took {int((time.time() - s) / 60)} minutes\")\n",
    "\n",
    "# Simple evaluation of the model\n",
    "from sklearn.metrics import r2_score, mean_squared_error\n",
    "\n",
    "# Compute R-squared and RMSE scores for training data\n",
    "train_predicted = model_lr.predict(train_data)\n",
    "r2 = r2_score(train_data_output, train_predicted)\n",
    "print('LR Train R-squared score: ', r2)\n",
    "rmse = mean_squared_error(train_data_output, train_predicted, squared=False)\n",
    "print(f\"LR Train RMSE: {rmse}\")\n",
    "\n",
    "# Compute R-squared and RMSE scores for test data\n",
    "test_predicted = model_lr.predict(test_data)\n",
    "r2 = r2_score(test_data_output, test_predicted)\n",
    "print('LR Test R-squared score: ', r2)\n",
    "rmse = mean_squared_error(test_data_output, test_predicted, squared=False)\n",
    "print(f\"LR Test RMSE: {rmse}\")"
   ]
  },
  {
   "cell_type": "markdown",
   "id": "e1721896-1168-4536-ba08-751287b9fc6b",
   "metadata": {},
   "source": [
    "## Final result comparison"
   ]
  },
  {
   "cell_type": "code",
   "execution_count": 53,
   "id": "aff1a0c0-ef00-48bf-ab9c-431fba2b585c",
   "metadata": {},
   "outputs": [
    {
     "name": "stdout",
     "output_type": "stream",
     "text": [
      "Loaded 39 image evaluations\n"
     ]
    }
   ],
   "source": [
    "\"\"\"\n",
    "In this section, we will start by drawing the test images with their labels\n",
    "versus \n",
    "The predictions from \n",
    "1. PatchCore\n",
    "2. MLP\n",
    "3. LR\n",
    "\"\"\"\n",
    "import pandas\n",
    "\n",
    "\n",
    "def get_image_embedding(path: str):\n",
    "    image_arr=read_image(path)\n",
    "    inferencer.metadata[\"image_shape\"] = image_arr.shape[:2]\n",
    "    processed_image = inferencer.pre_process(image_arr)\n",
    "    model_patchcore = _model_patchcore.model\n",
    "    with torch.no_grad():\n",
    "        features = model_patchcore.feature_extractor(processed_image)  # 2nd and 3rd layer\n",
    "    features = {layer: model_patchcore.feature_pooler(feature) for layer, feature in features.items()}\n",
    "    embedding = model_patchcore.generate_embedding(features)\n",
    "    batch_size, _, width, height = embedding.shape\n",
    "    embedding = model_patchcore.reshape_embedding(embedding)\n",
    "    return embedding\n",
    "\n",
    "patchcore_threshold = inferencer.metadata[\"image_threshold\"]\n",
    "\n",
    "evaluations = []\n",
    "\n",
    "\n",
    "for path in test_images_used_for_test:\n",
    "    evaluation = {}\n",
    "    evaluation[\"actual_label\"] = 0 if \"good\" in str(path) else 1\n",
    "    # PatchCore\n",
    "    evaluation[\"patchcore_score\"], evaluation[\"patchcore_label\"] = inferencer.predict(path)\n",
    "    evaluation[\"patchcore_label\"] = 1 if evaluation[\"patchcore_label\"] == \"Anomalous\" else 0\n",
    "    \n",
    "    embedding = get_image_embedding(path)\n",
    "    #MLP\n",
    "    patch_scores = model_mlp.predict(embedding).tolist()\n",
    "    evaluation[\"mlp_score\"] = max(patch_scores)\n",
    "    # LR\n",
    "    patch_scores = model_lr.predict(embedding).tolist()\n",
    "    evaluation[\"lr_score\"] = max(patch_scores)\n",
    "    \n",
    "    evaluations.append(evaluation)\n",
    "\n",
    "evaluations = pandas.DataFrame(\n",
    "    data=evaluations,\n",
    "    columns=[\"actual_label\", \"patchcore_score\", \"patchcore_label\", \"mlp_score\", \"mlp_label\", \"lr_score\", \"lr_label\"]\n",
    ")\n",
    "print(f\"Loaded {len(evaluations)} image evaluations\")"
   ]
  },
  {
   "cell_type": "code",
   "execution_count": 96,
   "id": "6ed1cb4d-39bb-416e-8b9c-859b88f31f04",
   "metadata": {},
   "outputs": [
    {
     "name": "stdout",
     "output_type": "stream",
     "text": [
      "max acc: 94.87179487179488\n",
      "Max acc for zero-FNR: 94.87179487179488\n",
      "Max balanced acc: 96.55172413793103\n"
     ]
    }
   ],
   "source": [
    "def evaluate_results(_scores, _threshold):\n",
    "    _results = [1 if res > _threshold else 0 for res in _scores]\n",
    "    tp = fp = tn = fn = 0\n",
    "    actual_labels = evaluations.actual_label.tolist()\n",
    "    total_positive = sum(actual_labels)\n",
    "    total_negative = len(actual_labels) - total_positive\n",
    "    \n",
    "    for idx in range(len(actual_labels)):\n",
    "        if actual_labels[idx] and _results[idx]:\n",
    "            tp += 1\n",
    "        elif actual_labels[idx] and not _results[idx]:\n",
    "            fn  += 1\n",
    "        elif (not actual_labels[idx]) and not _results[idx]:\n",
    "            tn += 1\n",
    "        elif (not actual_labels[idx]) and _results[idx]:\n",
    "            fp += 1\n",
    "\n",
    "    total = tp+tn+fp+fn\n",
    "    # assert total == len(actual_labels)\n",
    "    correct = tn+tp\n",
    "    acc = 100*correct/total\n",
    "    fpr = 0 if not fp else 100*fp/total_negative\n",
    "    fnr = 0 if not fn else 100*fn/total_positive\n",
    "    bal_acc = 0.5*(200-fpr-fnr)\n",
    "    # print(fp, fn, tp, tn, tp+tn+fp+fn, )\n",
    "    return acc, fpr, fnr, bal_acc\n",
    "\n",
    "\n",
    "graph = []\n",
    "max_accuracy = 0\n",
    "max_accuracy_for_0_fnr = 0\n",
    "th = 30\n",
    "threshold_at_0_fnr = 10\n",
    "highest_bal_acc = 0\n",
    "threshold_at_highest_bal_acc = 0\n",
    "\n",
    "while th < 40:\n",
    "    th += 0.1\n",
    "    scores = evaluations.mlp_score.tolist()\n",
    "    acc, fpr, fnr, bal_acc = evaluate_results(scores, th)  # change lr_scores to mlp_scores to get the results for the MLP model\n",
    "    max_accuracy = max(max_accuracy, acc)\n",
    "    graph.append([th, \"Accuracy\", acc])\n",
    "    graph.append([th, \"FPR\", fpr])\n",
    "    graph.append([th, \"FNR\", fnr])\n",
    "    graph.append([th, \"Balanced Accuracy\", bal_acc])\n",
    "\n",
    "    if fnr == 0 and acc >= max_accuracy_for_0_fnr:\n",
    "        max_accuracy_for_0_fnr = acc\n",
    "        best_threshold = th\n",
    "    if bal_acc >= highest_bal_acc:\n",
    "        highest_bal_acc = bal_acc\n",
    "        threshold_at_highest_bal_acc = th\n",
    "\n",
    "print(f\"max acc: {max_accuracy}\")\n",
    "print(f\"Max acc for zero-FNR: {max_accuracy_for_0_fnr}\")\n",
    "print(f\"Max balanced acc: {highest_bal_acc}\")"
   ]
  },
  {
   "cell_type": "code",
   "execution_count": 97,
   "id": "d7a15fcd-35cb-4f94-b992-754117ae7db9",
   "metadata": {},
   "outputs": [
    {
     "data": {
      "text/plain": [
       "<seaborn.axisgrid.FacetGrid at 0x2aed0bee0>"
      ]
     },
     "execution_count": 97,
     "metadata": {},
     "output_type": "execute_result"
    },
    {
     "data": {
      "image/png": "[encoded data removed]",
      "text/plain": [
       "<Figure size 885x700 with 1 Axes>"
      ]
     },
     "metadata": {},
     "output_type": "display_data"
    }
   ],
   "source": [
    "import seaborn as sns\n",
    "import pandas\n",
    "\n",
    "sns.set_theme()\n",
    "\n",
    "df = pandas.DataFrame(graph, columns=[\"Threshold\", \"Type\", \"Percentage\"])\n",
    "\n",
    "from matplotlib import pyplot as plt\n",
    "plot = sns.relplot(\n",
    "    data=df,kind=\"line\",\n",
    "    x=\"Threshold\", y=\"Percentage\", hue=\"Type\",height=7\n",
    ")\n",
    "plot.map(plt.axvline, x=best_threshold, color=\".7\", dashes=(2, 1), zorder=0)\n",
    "plot.map(plt.axvline, x=threshold_at_highest_bal_acc, color=\".7\", dashes=(2, 1), zorder=0)"
   ]
  },
  {
   "cell_type": "code",
   "execution_count": null,
   "id": "d43e9f8b-135a-406e-84f5-d59e32069710",
   "metadata": {},
   "outputs": [],
   "source": []
  }
 ],
 "metadata": {
  "kernelspec": {
   "display_name": "Python 3 (ipykernel)",
   "language": "python",
   "name": "python3"
  },
  "language_info": {
   "codemirror_mode": {
    "name": "ipython",
    "version": 3
   },
   "file_extension": ".py",
   "mimetype": "text/x-python",
   "name": "python",
   "nbconvert_exporter": "python",
   "pygments_lexer": "ipython3",
   "version": "3.10.11"
  }
 },
 "nbformat": 4,
 "nbformat_minor": 5
}
